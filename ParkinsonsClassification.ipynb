{
 "cells": [
  {
   "cell_type": "markdown",
   "metadata": {},
   "source": [
    "# Surfboard mPower classification task"
   ]
  },
  {
   "cell_type": "markdown",
   "metadata": {},
   "source": [
    "Example classification task using Surfboard features, highlighting the importance of keeping train/test sets disjoint by participant and matching age/gender to create meaningful validation metrics."
   ]
  },
  {
   "cell_type": "markdown",
   "metadata": {},
   "source": [
    "## Setup"
   ]
  },
  {
   "cell_type": "code",
   "execution_count": 1,
   "metadata": {},
   "outputs": [],
   "source": [
    "import os\n",
    "import json\n",
    "\n",
    "import matplotlib.pyplot as plt\n",
    "plt.style.use('seaborn')\n",
    "\n",
    "from sklearn.ensemble import GradientBoostingClassifier\n",
    "from sklearn.metrics import (\n",
    "    auc,\n",
    "    roc_curve,\n",
    "    confusion_matrix,\n",
    "    classification_report,\n",
    ")\n",
    "\n",
    "import pandas as pd\n",
    "import numpy as np\n",
    "\n",
    "np.random.seed(123)"
   ]
  },
  {
   "cell_type": "markdown",
   "metadata": {},
   "source": [
    "We do not provide public access to the following files. Access to mPower data is managed by the Synapase platform. For more information about accessing the dataset, see [this page](https://www.synapse.org/#!Synapse:syn4993293/wiki/247859)."
   ]
  },
  {
   "cell_type": "code",
   "execution_count": 2,
   "metadata": {},
   "outputs": [],
   "source": [
    "features_csv = 'surfboardfeats_mpower_is2020.csv'\n",
    "metadata_csv = 'metadata.csv'\n",
    "balanced_fnames_json = 'test_fnames.json'"
   ]
  },
  {
   "cell_type": "markdown",
   "metadata": {},
   "source": [
    "## Load/prepare the data"
   ]
  },
  {
   "cell_type": "markdown",
   "metadata": {},
   "source": [
    "Load Surfboard pre-computed features."
   ]
  },
  {
   "cell_type": "code",
   "execution_count": 3,
   "metadata": {
    "scrolled": false
   },
   "outputs": [],
   "source": [
    "surfboard_output = pd.read_csv(features_csv)"
   ]
  },
  {
   "cell_type": "markdown",
   "metadata": {},
   "source": [
    "Load tbe metadata."
   ]
  },
  {
   "cell_type": "code",
   "execution_count": 4,
   "metadata": {},
   "outputs": [],
   "source": [
    "metadata = pd.read_csv(metadata_csv)\n",
    "fname_to_diagnosis = {row['fnames']: row['professional-diagnosis'] for _, row in metadata.iterrows()}"
   ]
  },
  {
   "cell_type": "code",
   "execution_count": 5,
   "metadata": {},
   "outputs": [],
   "source": [
    "def check_fname(fname):\n",
    "    if fname_to_diagnosis[fname] in [True, False]:\n",
    "        return True\n",
    "    return False"
   ]
  },
  {
   "cell_type": "markdown",
   "metadata": {},
   "source": [
    "Some of the .wav files were missing from the metadata .csv file, and vice versa. Take the intersection then remove the file names that do not have a diagnosis."
   ]
  },
  {
   "cell_type": "code",
   "execution_count": 6,
   "metadata": {},
   "outputs": [
    {
     "name": "stdout",
     "output_type": "stream",
     "text": [
      "Retaining 63238 intermediate fnames...\n",
      "Retaining 62831 fnames...\n"
     ]
    }
   ],
   "source": [
    "retained_fnames = list(set(metadata['fnames']).intersection(set(surfboard_output['fnames'])))\n",
    "print(f'Retaining {len(retained_fnames)} intermediate fnames...')\n",
    "\n",
    "retained_fnames = set([f for f in retained_fnames if check_fname(f)])\n",
    "print(f'Retaining {len(retained_fnames)} fnames...')\n",
    "\n",
    "# This dictionary will be useful for balancing the validation sets.\n",
    "diagnosis_to_fnames = {\n",
    "    'PD': [f for f in retained_fnames if fname_to_diagnosis[f]], \n",
    "    'HC': [f for f in retained_fnames if not fname_to_diagnosis[f]]\n",
    "}"
   ]
  },
  {
   "cell_type": "markdown",
   "metadata": {},
   "source": [
    "## Define the test sets\n",
    "All of these will be balanced in terms of diagnosis.\n",
    "\n",
    "1. Random validation set.\n",
    "\n",
    "2. Disjoint (in terms of identity) validation set – to ensure we don't just learn characteristics related to participant identity. For this we will pick healthCodes (unique participant identifiers).\n",
    "\n",
    "3. Matched (in terms of age/gender) and disjoint (in terms of identity) validation set. This has been precomputed."
   ]
  },
  {
   "cell_type": "code",
   "execution_count": 7,
   "metadata": {},
   "outputs": [],
   "source": [
    "# 1. Sample 5000 random filenames, making sure that we have 2500 HC and 2500 PD.\n",
    "random_HC = np.random.choice(diagnosis_to_fnames['HC'], 2500, replace=False)\n",
    "random_PD = np.random.choice(diagnosis_to_fnames['PD'], 2500, replace=False)\n",
    "random_validation_fnames = list(random_HC) + list(random_PD)\n",
    "\n",
    "# 2. Sample some healthCodes.\n",
    "random_healthcodes = set(np.random.choice(np.unique(metadata['healthCode']), 500, replace=False))\n",
    "temp_disjoint_fnames = [\n",
    "    row['fnames'] for _, row in metadata.iterrows() if (row['healthCode'] in random_healthcodes) and row['fnames'] in retained_fnames\n",
    "]\n",
    "\n",
    "PDs = [f for f in temp_disjoint_fnames if fname_to_diagnosis[f]]\n",
    "HCs = [f for f in temp_disjoint_fnames if not fname_to_diagnosis[f]]\n",
    "\n",
    "num_PDs, num_HCs = 0, 0\n",
    "disjoint_fnames = []\n",
    "delete_from_trainset = []\n",
    "\n",
    "for f in temp_disjoint_fnames:\n",
    "    if num_PDs < min(len(PDs), len(HCs)) and fname_to_diagnosis[f]:\n",
    "        num_PDs += 1\n",
    "        disjoint_fnames.append(f)\n",
    "    elif num_HCs < min(len(PDs), len(HCs)) and not fname_to_diagnosis[f]:\n",
    "        num_HCs += 1\n",
    "        disjoint_fnames.append(f)\n",
    "    else:\n",
    "        delete_from_trainset.append(f)\n",
    "\n",
    "# 3. Load from json.\n",
    "matched_disjoint_fnames = json.load(open(balanced_fnames_json, 'r'))"
   ]
  },
  {
   "cell_type": "markdown",
   "metadata": {},
   "source": [
    "## Define the training set"
   ]
  },
  {
   "cell_type": "code",
   "execution_count": 8,
   "metadata": {},
   "outputs": [],
   "source": [
    "validation_fnames = set(random_validation_fnames).union(set(disjoint_fnames)).union(set(matched_disjoint_fnames))\n",
    "train_fnames = [f for f in retained_fnames if (f not in validation_fnames and f not in delete_from_trainset)]"
   ]
  },
  {
   "cell_type": "code",
   "execution_count": 9,
   "metadata": {},
   "outputs": [],
   "source": [
    "def preprocess_features(X):\n",
    "    \"\"\"X is a pandas DataFrame. We replace the inf and nan entries\n",
    "    with column means.\"\"\"\n",
    "    X = np.array(X)\n",
    "    \n",
    "    # Replace infs by NaNs.\n",
    "    X[np.where(np.isinf(X))] = float('nan')\n",
    "\n",
    "    # Replace NaNs by column means.\n",
    "    nan_mean = np.nanmean(X, 0)\n",
    "    nans = np.where(pd.isnull(X))\n",
    "\n",
    "    for row_idx, col_idx in zip(nans[0], nans[1]):\n",
    "        X[row_idx, col_idx] = nan_mean[col_idx]\n",
    "        \n",
    "    return X\n",
    "\n",
    "def fnames_to_model_inputs(fnames, column_max=None):\n",
    "    feats = surfboard_output[surfboard_output['fnames'].isin(fnames)]\n",
    "    labels = ['PD' if fname_to_diagnosis[f] else 'HC' for f in feats['fnames']]\n",
    "    feats = feats.drop('fnames', 1)\n",
    "    feats = preprocess_features(feats)\n",
    "\n",
    "    if column_max is None:\n",
    "        column_max = np.abs(feats).max(0)\n",
    "        feats = feats / column_max\n",
    "        return feats, labels, column_max\n",
    "    \n",
    "    feats = feats / column_max\n",
    "    return feats, labels"
   ]
  },
  {
   "cell_type": "markdown",
   "metadata": {},
   "source": [
    "## Train classifier"
   ]
  },
  {
   "cell_type": "code",
   "execution_count": 10,
   "metadata": {},
   "outputs": [],
   "source": [
    "train_features, train_labels, col_max = fnames_to_model_inputs(train_fnames)\n",
    "\n",
    "random_validation_features, random_validation_labels = fnames_to_model_inputs(random_validation_fnames, column_max=col_max)\n",
    "disjoint_validation_features, disjoint_validation_labels = fnames_to_model_inputs(disjoint_fnames, column_max=col_max)\n",
    "matched_disjoint_features, matched_disjoint_labels = fnames_to_model_inputs(matched_disjoint_fnames, column_max=col_max)"
   ]
  },
  {
   "cell_type": "code",
   "execution_count": 11,
   "metadata": {
    "scrolled": false
   },
   "outputs": [
    {
     "name": "stdout",
     "output_type": "stream",
     "text": [
      "      Iter       Train Loss   Remaining Time \n",
      "         1           1.2677            8.92m\n",
      "         2           1.2424            8.84m\n",
      "         3           1.2213            8.70m\n",
      "         4           1.2034            8.67m\n",
      "         5           1.1876            8.59m\n",
      "         6           1.1733            8.51m\n",
      "         7           1.1601            8.40m\n",
      "         8           1.1498            8.32m\n",
      "         9           1.1395            8.25m\n",
      "        10           1.1297            8.16m\n",
      "        20           1.0592            7.27m\n",
      "        30           1.0139            6.36m\n",
      "        40           0.9814            5.46m\n",
      "        50           0.9563            4.56m\n",
      "        60           0.9334            3.66m\n",
      "        70           0.9154            2.74m\n",
      "        80           0.8984            1.83m\n",
      "        90           0.8841           54.79s\n",
      "       100           0.8706            0.00s\n"
     ]
    }
   ],
   "source": [
    "classifier = GradientBoostingClassifier(verbose=True).fit(train_features, train_labels)"
   ]
  },
  {
   "cell_type": "markdown",
   "metadata": {},
   "source": [
    "## Validate on test sets\n",
    "Note: the reported metrics below might be slightly different to those reported in the paper as the validation set generation is random."
   ]
  },
  {
   "cell_type": "code",
   "execution_count": 12,
   "metadata": {},
   "outputs": [
    {
     "name": "stdout",
     "output_type": "stream",
     "text": [
      "Random validation classification report: \n",
      "              precision    recall  f1-score   support\n",
      "\n",
      "          HC       0.87      0.55      0.67      2500\n",
      "          PD       0.67      0.92      0.78      2500\n",
      "\n",
      "    accuracy                           0.73      5000\n",
      "   macro avg       0.77      0.73      0.73      5000\n",
      "weighted avg       0.77      0.73      0.73      5000\n",
      "\n",
      "\n",
      "Disjoint random classification report: \n",
      "              precision    recall  f1-score   support\n",
      "\n",
      "          HC       0.84      0.54      0.66      2547\n",
      "          PD       0.66      0.89      0.76      2547\n",
      "\n",
      "    accuracy                           0.72      5094\n",
      "   macro avg       0.75      0.72      0.71      5094\n",
      "weighted avg       0.75      0.72      0.71      5094\n",
      "\n",
      "\n",
      "Matched disjoint classification report: \n",
      "              precision    recall  f1-score   support\n",
      "\n",
      "          HC       0.70      0.46      0.55      1000\n",
      "          PD       0.60      0.80      0.68      1000\n",
      "\n",
      "    accuracy                           0.63      2000\n",
      "   macro avg       0.65      0.63      0.62      2000\n",
      "weighted avg       0.65      0.63      0.62      2000\n",
      "\n",
      "\n"
     ]
    }
   ],
   "source": [
    "for name, feats, labels in zip(\n",
    "    ['Random validation', 'Disjoint random', 'Matched disjoint'],\n",
    "    [random_validation_features, disjoint_validation_features, matched_disjoint_features],\n",
    "    [random_validation_labels, disjoint_validation_labels, matched_disjoint_labels]\n",
    "):\n",
    "    predictions_valid = classifier.predict(feats)\n",
    "    cmatrix = confusion_matrix(labels, predictions_valid)\n",
    "    print(f'{name} classification report: \\n{classification_report(labels, predictions_valid)}\\n')"
   ]
  },
  {
   "cell_type": "markdown",
   "metadata": {},
   "source": [
    "We can see that the metrics get gradually worse as we traverse from random validation to disjoint random validation to matched disjoint, with the biggest jump being from disjoint random to matched disjoint. \n",
    "\n",
    "**This suggests that the classifier is exploiting underlying age and gender biases in the data set.**\n",
    "\n",
    "Let's now take a look at the ROC surves and AUCs."
   ]
  },
  {
   "cell_type": "code",
   "execution_count": 13,
   "metadata": {
    "scrolled": false
   },
   "outputs": [
    {
     "data": {
      "image/png": "[encoded data removed]",
      "text/plain": [
       "<Figure size 1152x648 with 1 Axes>"
      ]
     },
     "metadata": {},
     "output_type": "display_data"
    }
   ],
   "source": [
    "plt.figure(figsize=(16, 9))\n",
    "for name, feats, labels in zip(\n",
    "    ['Random validation', 'Disjoint random', 'Matched disjoint'],\n",
    "    [random_validation_features, disjoint_validation_features, matched_disjoint_features],\n",
    "    [random_validation_labels, disjoint_validation_labels, matched_disjoint_labels]\n",
    "):\n",
    "    prob_predictions_valid = classifier.predict_log_proba(feats)\n",
    "    fpr, tpr, _ = roc_curve([1 if el == 'PD' else 0 for el in labels], prob_predictions_valid[:, 1])\n",
    "    plt.plot(fpr, tpr, label='{} ROC Curve, AUC = {:.2f}'.format(name, auc(fpr, tpr)))\n",
    "    plt.legend(prop={'size': 15})\n",
    "    plt.title('ROC curve evaluating model on random test set')\n",
    "plt.show()"
   ]
  },
  {
   "cell_type": "markdown",
   "metadata": {},
   "source": [
    "This confirms what we observed in the classification reports: the generalisation gets progressively worse as we traverse from random validation to disjoint random to matched disjoint"
   ]
  }
 ],
 "metadata": {
  "kernelspec": {
   "display_name": "Python 3",
   "language": "python",
   "name": "python3"
  },
  "language_info": {
   "codemirror_mode": {
    "name": "ipython",
    "version": 3
   },
   "file_extension": ".py",
   "mimetype": "text/x-python",
   "name": "python",
   "nbconvert_exporter": "python",
   "pygments_lexer": "ipython3",
   "version": "3.7.6"
  }
 },
 "nbformat": 4,
 "nbformat_minor": 4
}
