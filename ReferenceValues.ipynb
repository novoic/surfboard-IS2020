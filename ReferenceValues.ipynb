{
 "cells": [
  {
   "cell_type": "markdown",
   "metadata": {},
   "source": [
    "# Surfboard LibriSpeech reference values"
   ]
  },
  {
   "cell_type": "markdown",
   "metadata": {},
   "source": [
    "Calculation of Surfboard reference means, medians, standard deviations and median absolute deviations on a 40-hour subset of LibriSpeech."
   ]
  },
  {
   "cell_type": "markdown",
   "metadata": {},
   "source": [
    "## Setup"
   ]
  },
  {
   "cell_type": "code",
   "execution_count": null,
   "metadata": {},
   "outputs": [],
   "source": [
    "import pandas as pd\n",
    "import numpy as np\n",
    "from tqdm import tqdm\n",
    "import scipy.stats"
   ]
  },
  {
   "cell_type": "markdown",
   "metadata": {},
   "source": [
    "The following csv file can be downloaded from: https://novoic-surfboard-interspeech2020.s3-us-west-2.amazonaws.com/surfboard_librispeech40h_features.csv"
   ]
  },
  {
   "cell_type": "code",
   "execution_count": null,
   "metadata": {},
   "outputs": [],
   "source": [
    "features_csv = 'surfboard_librispeech40h_features.csv'"
   ]
  },
  {
   "cell_type": "markdown",
   "metadata": {},
   "source": [
    "## Load/prepare the data"
   ]
  },
  {
   "cell_type": "code",
   "execution_count": null,
   "metadata": {},
   "outputs": [],
   "source": [
    "surfboard_values_librispeech = pd.read_csv(features_csv)"
   ]
  },
  {
   "cell_type": "markdown",
   "metadata": {},
   "source": [
    "Drop the first column: `'fnames'`."
   ]
  },
  {
   "cell_type": "code",
   "execution_count": null,
   "metadata": {},
   "outputs": [],
   "source": [
    "feature_list = surfboard_values_librispeech.columns.tolist()[1:]\n",
    "print(f'{len(feature_list):,} features')"
   ]
  },
  {
   "cell_type": "markdown",
   "metadata": {},
   "source": [
    "Some features can be undefined following reference implementations. To extract statistics ignoring these, we replace `inf`s by `nan`s to later use `np.nanmean` etc."
   ]
  },
  {
   "cell_type": "code",
   "execution_count": null,
   "metadata": {},
   "outputs": [],
   "source": [
    "surfboard_values_librispeech = surfboard_values_librispeech.replace([np.inf, -np.inf], np.nan)"
   ]
  },
  {
   "cell_type": "markdown",
   "metadata": {},
   "source": [
    "## Calculate the reference values"
   ]
  },
  {
   "cell_type": "code",
   "execution_count": null,
   "metadata": {
    "scrolled": true
   },
   "outputs": [],
   "source": [
    "reference_values_dict = {}\n",
    "for feature in tqdm(feature_list, desc='Calculating reference values'):\n",
    "    ref_mean = np.nanmean(surfboard_values_librispeech[feature])\n",
    "    ref_std = np.nanstd(surfboard_values_librispeech[feature])\n",
    "    ref_median = np.nanmedian(surfboard_values_librispeech[feature])\n",
    "    \n",
    "    ref_mad = scipy.stats.median_absolute_deviation(\n",
    "        surfboard_values_librispeech[feature],\n",
    "        nan_policy='omit'\n",
    "    )\n",
    "    \n",
    "    reference_values_dict[feature] = [ref_mean, ref_std, ref_median, ref_mad]"
   ]
  },
  {
   "cell_type": "code",
   "execution_count": null,
   "metadata": {
    "scrolled": true
   },
   "outputs": [],
   "source": [
    "reference_values_df = pd.DataFrame.from_dict(reference_values_dict)\n",
    "reference_values_df.index = ['mean', 'std', 'median', 'mad']\n",
    "reference_values_df.head()"
   ]
  }
 ],
 "metadata": {
  "kernelspec": {
   "display_name": "Python 3",
   "language": "python",
   "name": "python3"
  },
  "language_info": {
   "codemirror_mode": {
    "name": "ipython",
    "version": 3
   },
   "file_extension": ".py",
   "mimetype": "text/x-python",
   "name": "python",
   "nbconvert_exporter": "python",
   "pygments_lexer": "ipython3",
   "version": "3.7.6"
  }
 },
 "nbformat": 4,
 "nbformat_minor": 4
}
