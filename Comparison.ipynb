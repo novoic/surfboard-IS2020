{
 "cells": [
  {
   "cell_type": "markdown",
   "metadata": {},
   "source": [
    "# Surfboard/OpenSMILE/Praat comparison"
   ]
  },
  {
   "cell_type": "markdown",
   "metadata": {},
   "source": [
    "Comparison of common features (local jitter, DDP jitter and local shimmer) between the Surfboard, OpenSMILE and Praat frameworks."
   ]
  },
  {
   "cell_type": "markdown",
   "metadata": {},
   "source": [
    "## Setup"
   ]
  },
  {
   "cell_type": "code",
   "execution_count": 1,
   "metadata": {},
   "outputs": [],
   "source": [
    "import os\n",
    "from scipy.stats import spearmanr\n",
    "import pandas as pd"
   ]
  },
  {
   "cell_type": "code",
   "execution_count": 2,
   "metadata": {},
   "outputs": [],
   "source": [
    "surfboard_csv_path = 'surfboard_features.csv' # Download from https://novoic-surfboard-interspeech2020.s3-us-west-2.amazonaws.com/spearmanrhos_csv/surfboard_features.csv\n",
    "opensmile_csv_path = 'opensmile_features.csv' # Download from https://novoic-surfboard-interspeech2020.s3-us-west-2.amazonaws.com/spearmanrhos_csv/opensmile_features.csv\n",
    "praat_csv_path = 'praat_features.csv'     # Download from https://novoic-surfboard-interspeech2020.s3-us-west-2.amazonaws.com/spearmanrhos_csv/praat_features.csv"
   ]
  },
  {
   "cell_type": "markdown",
   "metadata": {},
   "source": [
    "## Load the Dataframes\n",
    "Sort by fname to facilitate comparison."
   ]
  },
  {
   "cell_type": "code",
   "execution_count": 3,
   "metadata": {},
   "outputs": [],
   "source": [
    "opensmile_df = pd.read_csv(opensmile_csv_path).sort_values(by=['fnames'])\n",
    "praat_df = pd.read_csv(praat_csv_path).sort_values(by=['fnames'])\n",
    "surfboard_df = pd.read_csv(surfboard_csv_path).sort_values(by=['fnames'])"
   ]
  },
  {
   "cell_type": "markdown",
   "metadata": {},
   "source": [
    "## Calculate the rank correlations"
   ]
  },
  {
   "cell_type": "code",
   "execution_count": 4,
   "metadata": {},
   "outputs": [],
   "source": [
    "def get_correlations(surfboard_df, opensmile_df, praat_df, feature_name):\n",
    "    return {\n",
    "        'opensmile_praat': spearmanr(opensmile_df[feature_name], praat_df[feature_name]),\n",
    "        'opensmile_surfboard': spearmanr(opensmile_df[feature_name], surfboard_df[feature_name]),\n",
    "        'praat_surfboard': spearmanr(praat_df[feature_name], surfboard_df[feature_name]),\n",
    "    }"
   ]
  },
  {
   "cell_type": "code",
   "execution_count": 5,
   "metadata": {},
   "outputs": [],
   "source": [
    "localJitter_spearman = get_correlations(surfboard_df, opensmile_df, praat_df, 'localJitter')\n",
    "ddpJitter_spearman = get_correlations(surfboard_df, opensmile_df, praat_df, 'ddpJitter')\n",
    "localShimmer_spearman = get_correlations(surfboard_df, opensmile_df, praat_df, 'localShimmer')"
   ]
  },
  {
   "cell_type": "code",
   "execution_count": 6,
   "metadata": {},
   "outputs": [
    {
     "name": "stdout",
     "output_type": "stream",
     "text": [
      "Local Jitter: {'opensmile_praat': 0.30019163477463945, 'opensmile_surfboard': 0.20849174917827473, 'praat_surfboard': 0.31470167383509606}\n",
      "\n",
      "DDP Jitter: {'opensmile_praat': 0.3045582328392715, 'opensmile_surfboard': 0.18247837161261984, 'praat_surfboard': 0.12552771170565455}\n",
      "\n",
      "Local Shimmer: {'opensmile_praat': 0.4316284948585662, 'opensmile_surfboard': 0.3999336864219574, 'praat_surfboard': 0.3302644949106127}\n"
     ]
    }
   ],
   "source": [
    "print(\"Local Jitter: {}\\n\".format({pair: spearman.correlation for pair, spearman in localJitter_spearman.items()}))\n",
    "print(\"DDP Jitter: {}\\n\".format({pair: spearman.correlation for pair, spearman in ddpJitter_spearman.items()}))\n",
    "print(\"Local Shimmer: {}\".format({pair: spearman.correlation for pair, spearman in localShimmer_spearman.items()}))"
   ]
  }
 ],
 "metadata": {
  "kernelspec": {
   "display_name": "Python 3",
   "language": "python",
   "name": "python3"
  },
  "language_info": {
   "codemirror_mode": {
    "name": "ipython",
    "version": 3
   },
   "file_extension": ".py",
   "mimetype": "text/x-python",
   "name": "python",
   "nbconvert_exporter": "python",
   "pygments_lexer": "ipython3",
   "version": "3.7.6"
  }
 },
 "nbformat": 4,
 "nbformat_minor": 4
}
